{
 "cells": [
  {
   "cell_type": "code",
   "execution_count": null,
   "id": "2b9bebba",
   "metadata": {},
   "outputs": [],
   "source": [
    "The Graph Isomorphism Problem:\n",
    "    \n",
    "What is the Graph Isomorphism Problem?\n",
    "\n",
    "Isomorphism\n",
    "\n",
    "Why are graphs important?\n",
    "\n",
    "What is Graph Isomorphism used for?\n",
    "\n",
    "Using code to see if graphs are isomorphism\n",
    "\n",
    "References:\n",
    "    "
   ]
  }
 ],
 "metadata": {
  "kernelspec": {
   "display_name": "Python 3 (ipykernel)",
   "language": "python",
   "name": "python3"
  },
  "language_info": {
   "codemirror_mode": {
    "name": "ipython",
    "version": 3
   },
   "file_extension": ".py",
   "mimetype": "text/x-python",
   "name": "python",
   "nbconvert_exporter": "python",
   "pygments_lexer": "ipython3",
   "version": "3.9.7"
  }
 },
 "nbformat": 4,
 "nbformat_minor": 5
}
