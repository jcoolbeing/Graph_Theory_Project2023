{
 "cells": [
  {
   "cell_type": "markdown",
   "id": "dfa6f64f",
   "metadata": {},
   "source": [
    "<h1>Graph Isomorphism Problem - The Notebook</h1>\n",
    "\n",
    "<h3>What does Graph Ismomorphism mean?</h3>\n",
    "   \n",
    "   A graph has isomorphism if it can take different shapes.  This can only be achieved by the graph having the same amount of vertices, edges, and the same connections of edges.\n",
    "If graph G1 is isomophism with G2 then G2 is isomorphism with G1, this means that the graphs share\n",
    "injective properties as well as a surjective properties.  This is called a bijective or a\n",
    "\"One to One\" relationship.\n",
    "\n",
    "For example graph G1 and G2 both have 5 vertices, 5 edges, as well as the same edge connections.\n",
    "\n",
    "<i>G1{0,1,2,3,4}, G2{a,b,c,d,e}</i>\n",
    "\n",
    "<img src=\"https://miro.medium.com/v2/resize:fit:1400/format:webp/1*p3MUyuM1uFN3LXCSiR1yEg.png\" title=\"GraphG1G2\"/>\n",
    "                                                                                    <i>GraphG1G2 - Kelvin Jose</i>\n",
    "    \n",
    "\n",
    "<h3>What is a Graph?</h3>\n",
    "\n",
    "   A graph is a way to mathematical display a network and its relationsips.  Graphs consist \n",
    "of nodes and relationships between nodes.  Also defined as vertices and edges,\n",
    "This is represented as points and lines that connect these points.  Usualy every edge\n",
    "has a arrow which indicates the relationships direction, unless it is a bi-directional \n",
    "relationship.\n",
    "Graphs can be applied anywhere from geography, road systems, shopping, and telecommunication.\n",
    "\n",
    "How to determine if graphs are Isomorphic\n",
    "\n",
    "\n",
    "What is the Graph Isomorphism Problem?\n",
    "\n",
    "\n",
    "Examples:\n",
    "\n",
    "\n",
    "What is Graph Isomorphism used for?\n",
    "\n",
    "\n",
    "Using code to see if graphs are isomorphism\n",
    "    "
   ]
  },
  {
   "cell_type": "markdown",
   "id": "402ae59a",
   "metadata": {},
   "source": [
    "<h3>References:</h3>\n",
    "\n",
    "GraphG1G2 - <i>\"Graph Theory | Isomorphic Trees\" by Kelvin Jose </i>   "
   ]
  },
  {
   "cell_type": "code",
   "execution_count": null,
   "id": "32317902",
   "metadata": {},
   "outputs": [],
   "source": []
  }
 ],
 "metadata": {
  "kernelspec": {
   "display_name": "Python 3 (ipykernel)",
   "language": "python",
   "name": "python3"
  },
  "language_info": {
   "codemirror_mode": {
    "name": "ipython",
    "version": 3
   },
   "file_extension": ".py",
   "mimetype": "text/x-python",
   "name": "python",
   "nbconvert_exporter": "python",
   "pygments_lexer": "ipython3",
   "version": "3.9.7"
  }
 },
 "nbformat": 4,
 "nbformat_minor": 5
}
